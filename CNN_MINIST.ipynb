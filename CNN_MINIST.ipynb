{
  "nbformat": 4,
  "nbformat_minor": 0,
  "metadata": {
    "colab": {
      "provenance": [],
      "gpuType": "T4",
      "authorship_tag": "ABX9TyOcgSUYORHyPmLBr7h7Vrru",
      "include_colab_link": true
    },
    "kernelspec": {
      "name": "python3",
      "display_name": "Python 3"
    },
    "language_info": {
      "name": "python"
    },
    "accelerator": "GPU"
  },
  "cells": [
    {
      "cell_type": "markdown",
      "metadata": {
        "id": "view-in-github",
        "colab_type": "text"
      },
      "source": [
        "<a href=\"https://colab.research.google.com/github/Huian-Yang/Arduino-LED-codes/blob/main/CNN_MINIST.ipynb\" target=\"_parent\"><img src=\"https://colab.research.google.com/assets/colab-badge.svg\" alt=\"Open In Colab\"/></a>"
      ]
    },
    {
      "cell_type": "markdown",
      "source": [
        "#Imports"
      ],
      "metadata": {
        "id": "5LuulW3Tv1z-"
      }
    },
    {
      "cell_type": "code",
      "source": [
        "from keras.datasets import mnist\n",
        "from keras.utils import to_categorical\n",
        "from keras import layers\n",
        "from keras import models"
      ],
      "metadata": {
        "id": "RVgAr8g-v6Wl"
      },
      "execution_count": null,
      "outputs": []
    },
    {
      "cell_type": "markdown",
      "source": [
        "#Data"
      ],
      "metadata": {
        "id": "xPXvwsMzwpNY"
      }
    },
    {
      "cell_type": "code",
      "source": [
        "(train_images, train_labels), (test_images, test_labels) = mnist.load_data()   # load all the training/testing images and label"
      ],
      "metadata": {
        "id": "8ptZ6cGTe-Va",
        "colab": {
          "base_uri": "https://localhost:8080/"
        },
        "outputId": "184fc7a0-ca1d-4472-ca57-b6aa20d361e7"
      },
      "execution_count": null,
      "outputs": [
        {
          "output_type": "stream",
          "name": "stdout",
          "text": [
            "Downloading data from https://storage.googleapis.com/tensorflow/tf-keras-datasets/mnist.npz\n",
            "11490434/11490434 [==============================] - 2s 0us/step\n"
          ]
        }
      ]
    },
    {
      "cell_type": "markdown",
      "source": [
        "#Prepare Data"
      ],
      "metadata": {
        "id": "Or2oFx_kw6Q0"
      }
    },
    {
      "cell_type": "code",
      "source": [
        "train_images = train_images.reshape((60000,28,28,1)) # reshapes train_images (1 = images are grayscale = 1 channel)\n",
        "train_images = train_images.astype('float32')/255    # normalizes it after converting it to a float32 bit\n",
        "\n",
        "test_images = test_images.reshape((10000,28,28,1))\n",
        "test_images = test_images.astype('float32')/255\n",
        "\n",
        "train_labels = to_categorical(train_labels)         # converts the training labels to one-hot encoding (binary vectors)\n",
        "test_labels = to_categorical(test_labels)"
      ],
      "metadata": {
        "id": "NyaT_VI3fJtk"
      },
      "execution_count": null,
      "outputs": []
    },
    {
      "cell_type": "markdown",
      "source": [
        "#Create Model - Convolution Nueral Network"
      ],
      "metadata": {
        "id": "e9_Rn5MOxDgD"
      }
    },
    {
      "cell_type": "code",
      "source": [
        "model = models.Sequential()                                                   # create a new sequentil model (linear stack of layers)\n",
        "model.add(layers.Conv2D(32,(3,3), activation='relu', input_shape=(28,28,1)))  # adds a 2D convolutional lyaer with 32 kernals, each of size 3x3, activation function is ReLu, shape of our test and train images\n",
        "model.add(layers.MaxPooling2D((2,2)))                                         #adds a max-pooling layer with pool size of 2x2 (reduces spatial dimensions by taking the maximum value over 2x2 pooling window)\n",
        "model.add(layers.Conv2D(64,(3,3), activation='relu'))                         #64 neurons\n",
        "model.add(layers.MaxPooling2D((2,2)))\n",
        "model.add(layers.Conv2D(64,(3,3), activation='relu'))\n",
        "model.add(layers.Flatten())                               #coverts the 2D matrix data to a vector (\"flattens\")\n",
        "model.add(layers.Dense(64, activation='relu'))            #adds fully connected Dense Layer\n",
        "model.add(layers.Dense(10, activation='softmax'))         #another dense layer but with 10 neurons and softmax activation (outputs a probability distribition over thr 10 classes 0-9)\n",
        "\n",
        "model.summary()         #prints a summary of model architecture, with layers, output, shapes, and number of parameter\n",
        "\n",
        "\n"
      ],
      "metadata": {
        "colab": {
          "base_uri": "https://localhost:8080/"
        },
        "id": "ByT9E0NBf0W0",
        "outputId": "5dfc9d9a-97f1-491c-e757-c5ae942dc50f"
      },
      "execution_count": null,
      "outputs": [
        {
          "output_type": "stream",
          "name": "stdout",
          "text": [
            "Model: \"sequential\"\n",
            "_________________________________________________________________\n",
            " Layer (type)                Output Shape              Param #   \n",
            "=================================================================\n",
            " conv2d (Conv2D)             (None, 26, 26, 32)        320       \n",
            "                                                                 \n",
            " max_pooling2d (MaxPooling2  (None, 13, 13, 32)        0         \n",
            " D)                                                              \n",
            "                                                                 \n",
            " conv2d_1 (Conv2D)           (None, 11, 11, 64)        18496     \n",
            "                                                                 \n",
            " max_pooling2d_1 (MaxPoolin  (None, 5, 5, 64)          0         \n",
            " g2D)                                                            \n",
            "                                                                 \n",
            " conv2d_2 (Conv2D)           (None, 3, 3, 64)          36928     \n",
            "                                                                 \n",
            " flatten (Flatten)           (None, 576)               0         \n",
            "                                                                 \n",
            " dense (Dense)               (None, 64)                36928     \n",
            "                                                                 \n",
            " dense_1 (Dense)             (None, 10)                650       \n",
            "                                                                 \n",
            "=================================================================\n",
            "Total params: 93322 (364.54 KB)\n",
            "Trainable params: 93322 (364.54 KB)\n",
            "Non-trainable params: 0 (0.00 Byte)\n",
            "_________________________________________________________________\n"
          ]
        }
      ]
    },
    {
      "cell_type": "code",
      "source": [
        "model.compile(optimizer = 'rmsprop',\n",
        "              loss = 'categorical_crossentropy',\n",
        "              metrics = ['accuracy'])\n",
        "\n",
        "#compiles the model, specifying the optimizer, loss function, and evaluation metrics\n",
        "#rmsprop (root mean square propagation)\n",
        "#categorical_crossentropy (used for mutli-class classification problems) - compares the predicted probability distribution over the classes to the true distribution (one-hot encoded labels)\n",
        "#accuracy (is measure of how often the model's predictions match the true labels)"
      ],
      "metadata": {
        "id": "alxskt0Ahd4z"
      },
      "execution_count": null,
      "outputs": []
    },
    {
      "cell_type": "markdown",
      "source": [
        "#Train"
      ],
      "metadata": {
        "id": "lQtxi52txVxU"
      }
    },
    {
      "cell_type": "code",
      "source": [
        "model.fit(train_images, train_labels, epochs=5, batch_size = 64) # initiates the trainign process of the model\n",
        "\n",
        "# train_images is the input data (images) used for training.\n",
        "# train_labels are the corresponding labels (one-hot encoded) for the training images.\n",
        "# epochs=5 specifies the number of epochs (iterations over the entire training dataset). In this case, the model will be trained for 5 epochs.\n",
        "# batch_size=64 specifies the number of samples per gradient update. The training data will be divided into batches of 64 samples each. The model weights will be updated after each batch."
      ],
      "metadata": {
        "colab": {
          "base_uri": "https://localhost:8080/"
        },
        "id": "0t8ZD9lzhuYt",
        "outputId": "6569402a-e733-49b4-8550-430b78c4ea9c"
      },
      "execution_count": null,
      "outputs": [
        {
          "output_type": "stream",
          "name": "stdout",
          "text": [
            "Epoch 1/5\n",
            "938/938 [==============================] - 10s 6ms/step - loss: 0.1775 - accuracy: 0.9435\n",
            "Epoch 2/5\n",
            "938/938 [==============================] - 4s 4ms/step - loss: 0.0466 - accuracy: 0.9858\n",
            "Epoch 3/5\n",
            "938/938 [==============================] - 5s 5ms/step - loss: 0.0318 - accuracy: 0.9903\n",
            "Epoch 4/5\n",
            "938/938 [==============================] - 5s 5ms/step - loss: 0.0241 - accuracy: 0.9923\n",
            "Epoch 5/5\n",
            "938/938 [==============================] - 4s 4ms/step - loss: 0.0181 - accuracy: 0.9945\n"
          ]
        },
        {
          "output_type": "execute_result",
          "data": {
            "text/plain": [
              "<keras.src.callbacks.History at 0x7ce18b51a440>"
            ]
          },
          "metadata": {},
          "execution_count": 6
        }
      ]
    },
    {
      "cell_type": "markdown",
      "source": [
        "#Evaluate"
      ],
      "metadata": {
        "id": "XrxnZ5G6xeue"
      }
    },
    {
      "cell_type": "code",
      "source": [
        "model.evaluate(test_images, test_labels)[1] #evaluates the trained model on the test dataset\n",
        "\n",
        "#[1] accesss the second element of the list returned, which corresponds to the accuracy of test data\n",
        "\n"
      ],
      "metadata": {
        "colab": {
          "base_uri": "https://localhost:8080/"
        },
        "id": "qEuc8sGTjoia",
        "outputId": "20eab842-83af-460c-d349-cb72d9ca239d"
      },
      "execution_count": null,
      "outputs": [
        {
          "output_type": "stream",
          "name": "stdout",
          "text": [
            "313/313 [==============================] - 2s 5ms/step - loss: 0.0261 - accuracy: 0.9913\n"
          ]
        },
        {
          "output_type": "execute_result",
          "data": {
            "text/plain": [
              "0.9912999868392944"
            ]
          },
          "metadata": {},
          "execution_count": 7
        }
      ]
    }
  ]
}